{
 "cells": [
  {
   "cell_type": "code",
   "execution_count": null,
   "metadata": {
    "colab": {
     "base_uri": "https://localhost:8080/"
    },
    "executionInfo": {
     "elapsed": 37476,
     "status": "ok",
     "timestamp": 1747327747983,
     "user": {
      "displayName": "Saurabh Shigwan",
      "userId": "13392925412739105503"
     },
     "user_tz": -330
    },
    "id": "Mi6DYiF-SVHo",
    "outputId": "3a4c5768-3ffb-4df3-f242-78fd76a3e803"
   },
   "outputs": [
    {
     "name": "stdout",
     "output_type": "stream",
     "text": [
      "Mounted at /content/drive\n"
     ]
    }
   ],
   "source": [
    "from google.colab import drive\n",
    "drive.mount('/content/drive')"
   ]
  },
  {
   "cell_type": "code",
   "execution_count": null,
   "metadata": {
    "colab": {
     "base_uri": "https://localhost:8080/"
    },
    "executionInfo": {
     "elapsed": 17296,
     "status": "ok",
     "timestamp": 1747327765265,
     "user": {
      "displayName": "Saurabh Shigwan",
      "userId": "13392925412739105503"
     },
     "user_tz": -330
    },
    "id": "kXLoKDOKSjzA",
    "outputId": "4a4c34cb-da32-4da9-b544-c86545f3e71a"
   },
   "outputs": [
    {
     "name": "stdout",
     "output_type": "stream",
     "text": [
      "Requirement already satisfied: numpy in /usr/local/lib/python3.11/dist-packages (2.0.2)\n",
      "Requirement already satisfied: scikit-learn in /usr/local/lib/python3.11/dist-packages (1.6.1)\n",
      "Requirement already satisfied: scipy>=1.6.0 in /usr/local/lib/python3.11/dist-packages (from scikit-learn) (1.15.3)\n",
      "Requirement already satisfied: joblib>=1.2.0 in /usr/local/lib/python3.11/dist-packages (from scikit-learn) (1.5.0)\n",
      "Requirement already satisfied: threadpoolctl>=3.1.0 in /usr/local/lib/python3.11/dist-packages (from scikit-learn) (3.6.0)\n",
      "\u001b[2K     \u001b[90m━━━━━━━━━━━━━━━━━━━━━━━━━━━━━━━━━━━━━━━━\u001b[0m \u001b[32m63.1/63.1 kB\u001b[0m \u001b[31m5.5 MB/s\u001b[0m eta \u001b[36m0:00:00\u001b[0m\n",
      "\u001b[2K   \u001b[90m━━━━━━━━━━━━━━━━━━━━━━━━━━━━━━━━━━━━━━━━\u001b[0m \u001b[32m1.1/1.1 MB\u001b[0m \u001b[31m65.0 MB/s\u001b[0m eta \u001b[36m0:00:00\u001b[0m\n",
      "\u001b[?25hCollecting pymatting\n",
      "  Downloading PyMatting-1.1.13-py3-none-any.whl.metadata (7.5 kB)\n",
      "Requirement already satisfied: numpy>=1.16.0 in /usr/local/lib/python3.11/dist-packages (from pymatting) (2.0.2)\n",
      "Requirement already satisfied: pillow>=5.2.0 in /usr/local/lib/python3.11/dist-packages (from pymatting) (11.2.1)\n",
      "Requirement already satisfied: numba!=0.49.0 in /usr/local/lib/python3.11/dist-packages (from pymatting) (0.60.0)\n",
      "Requirement already satisfied: scipy>=1.1.0 in /usr/local/lib/python3.11/dist-packages (from pymatting) (1.15.3)\n",
      "Requirement already satisfied: llvmlite<0.44,>=0.43.0dev0 in /usr/local/lib/python3.11/dist-packages (from numba!=0.49.0->pymatting) (0.43.0)\n",
      "Downloading PyMatting-1.1.13-py3-none-any.whl (54 kB)\n",
      "\u001b[2K   \u001b[90m━━━━━━━━━━━━━━━━━━━━━━━━━━━━━━━━━━━━━━━━\u001b[0m \u001b[32m54.5/54.5 kB\u001b[0m \u001b[31m4.4 MB/s\u001b[0m eta \u001b[36m0:00:00\u001b[0m\n",
      "\u001b[?25hInstalling collected packages: pymatting\n",
      "Successfully installed pymatting-1.1.13\n",
      "Requirement already satisfied: opencv-python in /usr/local/lib/python3.11/dist-packages (4.11.0.86)\n",
      "Requirement already satisfied: numpy>=1.21.2 in /usr/local/lib/python3.11/dist-packages (from opencv-python) (2.0.2)\n",
      "Collecting lime\n",
      "  Downloading lime-0.2.0.1.tar.gz (275 kB)\n",
      "\u001b[2K     \u001b[90m━━━━━━━━━━━━━━━━━━━━━━━━━━━━━━━━━━━━━━\u001b[0m \u001b[32m275.7/275.7 kB\u001b[0m \u001b[31m21.6 MB/s\u001b[0m eta \u001b[36m0:00:00\u001b[0m\n",
      "\u001b[?25h  Preparing metadata (setup.py) ... \u001b[?25l\u001b[?25hdone\n",
      "Requirement already satisfied: matplotlib in /usr/local/lib/python3.11/dist-packages (from lime) (3.10.0)\n",
      "Requirement already satisfied: numpy in /usr/local/lib/python3.11/dist-packages (from lime) (2.0.2)\n",
      "Requirement already satisfied: scipy in /usr/local/lib/python3.11/dist-packages (from lime) (1.15.3)\n",
      "Requirement already satisfied: tqdm in /usr/local/lib/python3.11/dist-packages (from lime) (4.67.1)\n",
      "Requirement already satisfied: scikit-learn>=0.18 in /usr/local/lib/python3.11/dist-packages (from lime) (1.6.1)\n",
      "Requirement already satisfied: scikit-image>=0.12 in /usr/local/lib/python3.11/dist-packages (from lime) (0.25.2)\n",
      "Requirement already satisfied: networkx>=3.0 in /usr/local/lib/python3.11/dist-packages (from scikit-image>=0.12->lime) (3.4.2)\n",
      "Requirement already satisfied: pillow>=10.1 in /usr/local/lib/python3.11/dist-packages (from scikit-image>=0.12->lime) (11.2.1)\n",
      "Requirement already satisfied: imageio!=2.35.0,>=2.33 in /usr/local/lib/python3.11/dist-packages (from scikit-image>=0.12->lime) (2.37.0)\n",
      "Requirement already satisfied: tifffile>=2022.8.12 in /usr/local/lib/python3.11/dist-packages (from scikit-image>=0.12->lime) (2025.5.10)\n",
      "Requirement already satisfied: packaging>=21 in /usr/local/lib/python3.11/dist-packages (from scikit-image>=0.12->lime) (24.2)\n",
      "Requirement already satisfied: lazy-loader>=0.4 in /usr/local/lib/python3.11/dist-packages (from scikit-image>=0.12->lime) (0.4)\n",
      "Requirement already satisfied: joblib>=1.2.0 in /usr/local/lib/python3.11/dist-packages (from scikit-learn>=0.18->lime) (1.5.0)\n",
      "Requirement already satisfied: threadpoolctl>=3.1.0 in /usr/local/lib/python3.11/dist-packages (from scikit-learn>=0.18->lime) (3.6.0)\n",
      "Requirement already satisfied: contourpy>=1.0.1 in /usr/local/lib/python3.11/dist-packages (from matplotlib->lime) (1.3.2)\n",
      "Requirement already satisfied: cycler>=0.10 in /usr/local/lib/python3.11/dist-packages (from matplotlib->lime) (0.12.1)\n",
      "Requirement already satisfied: fonttools>=4.22.0 in /usr/local/lib/python3.11/dist-packages (from matplotlib->lime) (4.58.0)\n",
      "Requirement already satisfied: kiwisolver>=1.3.1 in /usr/local/lib/python3.11/dist-packages (from matplotlib->lime) (1.4.8)\n",
      "Requirement already satisfied: pyparsing>=2.3.1 in /usr/local/lib/python3.11/dist-packages (from matplotlib->lime) (3.2.3)\n",
      "Requirement already satisfied: python-dateutil>=2.7 in /usr/local/lib/python3.11/dist-packages (from matplotlib->lime) (2.9.0.post0)\n",
      "Requirement already satisfied: six>=1.5 in /usr/local/lib/python3.11/dist-packages (from python-dateutil>=2.7->matplotlib->lime) (1.17.0)\n",
      "Building wheels for collected packages: lime\n",
      "  Building wheel for lime (setup.py) ... \u001b[?25l\u001b[?25hdone\n",
      "  Created wheel for lime: filename=lime-0.2.0.1-py3-none-any.whl size=283834 sha256=998655a993cc8cdb99c850f25efcb3a8d4e022d90206cc2f1edac97761021ebf\n",
      "  Stored in directory: /root/.cache/pip/wheels/85/fa/a3/9c2d44c9f3cd77cf4e533b58900b2bf4487f2a17e8ec212a3d\n",
      "Successfully built lime\n",
      "Installing collected packages: lime\n",
      "Successfully installed lime-0.2.0.1\n"
     ]
    }
   ],
   "source": [
    "!pip install numpy scikit-learn\n",
    "!pip install -q torch_geometric\n",
    "!pip install -q class_resolver\n",
    "!pip3 install pymatting\n",
    "!pip install opencv-python\n",
    "!pip install lime"
   ]
  },
  {
   "cell_type": "code",
   "execution_count": null,
   "metadata": {
    "id": "O3zLuqbS5TNO"
   },
   "outputs": [],
   "source": [
    "import torch\n",
    "import torch.nn.functional as F\n",
    "from torch_geometric.nn import GATConv\n",
    "from sklearn.preprocessing import StandardScaler\n",
    "from sklearn.metrics import accuracy_score, precision_score, recall_score, f1_score, log_loss\n",
    "from sklearn.model_selection import StratifiedShuffleSplit\n",
    "import numpy as np\n",
    "from sklearn.manifold import TSNE\n",
    "import matplotlib.pyplot as plt\n",
    "from sklearn.metrics import roc_curve, auc, roc_auc_score\n",
    "from lime.lime_tabular import LimeTabularExplainer"
   ]
  },
  {
   "cell_type": "code",
   "execution_count": null,
   "metadata": {
    "id": "PTzZ8yH25VFf"
   },
   "outputs": [],
   "source": [
    "# Load CN and AD feature data (adjust paths)\n",
    "cn_fa_feature_path = \"histogram_features_all_subjects\"\n",
    "cn_features_dict = np.load(cn_fa_feature_path, allow_pickle=True).item()\n",
    "cn_features = np.array(list(cn_features_dict.values()))\n",
    "\n",
    "ad_fa_feature_path = \"histogram_features_all_subjects\"\n",
    "ad_features_dict = np.load(ad_fa_feature_path, allow_pickle=True).item()\n",
    "ad_features = np.array(list(ad_features_dict.values()))"
   ]
  },
  {
   "cell_type": "code",
   "execution_count": null,
   "metadata": {
    "id": "oH5zOW445aLe"
   },
   "outputs": [],
   "source": [
    "# Labels: CN = 0, AD = 1\n",
    "cn_labels = np.zeros(cn_features.shape[0])\n",
    "ad_labels = np.ones(ad_features.shape[0])\n",
    "\n",
    "# Combine CN and AD features and labels\n",
    "X = np.vstack((cn_features, ad_features))\n",
    "y = np.hstack((cn_labels, ad_labels))\n",
    "\n",
    "# Preprocessing: Normalize features\n",
    "scaler = StandardScaler()\n",
    "X = scaler.fit_transform(X)"
   ]
  },
  {
   "cell_type": "code",
   "execution_count": null,
   "metadata": {
    "id": "Gilhl-FL5eut"
   },
   "outputs": [],
   "source": [
    "# Convert to tensors\n",
    "X_tensor = torch.tensor(X, dtype=torch.float)\n",
    "y_tensor = torch.tensor(y, dtype=torch.long)\n",
    "\n",
    "assert torch.all((y_tensor == 0) | (y_tensor == 1)), \"Labels should only contain 0 (CN) and 1 (AD).\""
   ]
  },
  {
   "cell_type": "code",
   "execution_count": null,
   "metadata": {
    "id": "Lf62VZRu5g6s"
   },
   "outputs": [],
   "source": [
    "# Edge index: full pairwise combination of nodes (complete graph)\n",
    "num_nodes = X.shape[0]\n",
    "edge_index = torch.combinations(torch.arange(num_nodes), r=2).T"
   ]
  },
  {
   "cell_type": "code",
   "execution_count": null,
   "metadata": {
    "id": "ezW9KYhY5i3z"
   },
   "outputs": [],
   "source": [
    "# Send data to CPU (or GPU if available)\n",
    "device = torch.device(\"cuda\" if torch.cuda.is_available() else \"cpu\")\n",
    "X_tensor = X_tensor.to(device)\n",
    "y_tensor = y_tensor.to(device)\n",
    "edge_index = edge_index.to(device)"
   ]
  },
  {
   "cell_type": "code",
   "execution_count": null,
   "metadata": {
    "id": "71XkTbCx5lhV"
   },
   "outputs": [],
   "source": [
    "# Define the GAT model\n",
    "class GAT(torch.nn.Module):\n",
    "    def __init__(self, input_dim, hidden_dim, output_dim, heads=4):\n",
    "        super(GAT, self).__init__()\n",
    "        self.conv1 = GATConv(input_dim, hidden_dim, heads=heads)\n",
    "        self.conv2 = GATConv(hidden_dim * heads, hidden_dim, heads=heads)\n",
    "        self.conv3 = GATConv(hidden_dim * heads, output_dim, heads=1)\n",
    "\n",
    "    def forward(self, x, edge_index):\n",
    "        x = self.conv1(x, edge_index)\n",
    "        x = F.elu(x)\n",
    "        x = self.conv2(x, edge_index)\n",
    "        x = F.elu(x)\n",
    "        x = self.conv3(x, edge_index)\n",
    "        return F.log_softmax(x, dim=1)"
   ]
  },
  {
   "cell_type": "code",
   "execution_count": null,
   "metadata": {
    "id": "Gnqgrtdx5uyU"
   },
   "outputs": [],
   "source": [
    "# Train/test split: 10% train, 90% test\n",
    "sss = StratifiedShuffleSplit(n_splits=20, test_size=0.9, random_state=42)"
   ]
  },
  {
   "cell_type": "code",
   "execution_count": null,
   "metadata": {
    "id": "n1eTydrt5xak"
   },
   "outputs": [],
   "source": [
    "num_epochs = 2500\n",
    "accuracies, precisions, recalls, f1_scores, losses = [], [], [], [], []"
   ]
  },
  {
   "cell_type": "code",
   "execution_count": null,
   "metadata": {
    "colab": {
     "base_uri": "https://localhost:8080/"
    },
    "executionInfo": {
     "elapsed": 312832,
     "status": "ok",
     "timestamp": 1747309495415,
     "user": {
      "displayName": "Saurabh Shigwan",
      "userId": "13392925412739105503"
     },
     "user_tz": -330
    },
    "id": "6MxiyE-Gorwh",
    "outputId": "d2d897a4-58df-48fa-d9b3-90e7c5bf1322"
   },
   "outputs": [
    {
     "name": "stdout",
     "output_type": "stream",
     "text": [
      "\n",
      "Training fold 1\n",
      "Training samples (CN): 13, (AD): 9\n",
      "Testing samples (CN): 120, (AD): 79\n",
      "\n",
      "Fold 1 Evaluation: \n",
      "Accuracy: 0.9899\n",
      "Precision: 1.0000\n",
      "Recall: 0.9747\n",
      "F1 Score: 0.9872\n",
      "Cross-Entropy Loss: 0.0209\n",
      "--------------------------------------------------\n",
      "\n",
      "Training fold 2\n",
      "Training samples (CN): 13, (AD): 9\n",
      "Testing samples (CN): 120, (AD): 79\n",
      "\n",
      "Fold 2 Evaluation: \n",
      "Accuracy: 0.9246\n",
      "Precision: 1.0000\n",
      "Recall: 0.8101\n",
      "F1 Score: 0.8951\n",
      "Cross-Entropy Loss: 0.4561\n",
      "--------------------------------------------------\n",
      "\n",
      "Training fold 3\n",
      "Training samples (CN): 13, (AD): 9\n",
      "Testing samples (CN): 120, (AD): 79\n",
      "\n",
      "Fold 3 Evaluation: \n",
      "Accuracy: 0.9598\n",
      "Precision: 0.9080\n",
      "Recall: 1.0000\n",
      "F1 Score: 0.9518\n",
      "Cross-Entropy Loss: 0.1534\n",
      "--------------------------------------------------\n",
      "\n",
      "Training fold 4\n",
      "Training samples (CN): 13, (AD): 9\n",
      "Testing samples (CN): 120, (AD): 79\n",
      "\n",
      "Fold 4 Evaluation: \n",
      "Accuracy: 0.9598\n",
      "Precision: 1.0000\n",
      "Recall: 0.8987\n",
      "F1 Score: 0.9467\n",
      "Cross-Entropy Loss: 0.2253\n",
      "--------------------------------------------------\n",
      "\n",
      "Training fold 5\n",
      "Training samples (CN): 13, (AD): 9\n",
      "Testing samples (CN): 120, (AD): 79\n",
      "\n",
      "Fold 5 Evaluation: \n",
      "Accuracy: 0.9045\n",
      "Precision: 0.8061\n",
      "Recall: 1.0000\n",
      "F1 Score: 0.8927\n",
      "Cross-Entropy Loss: 0.4382\n",
      "--------------------------------------------------\n",
      "\n",
      "Training fold 6\n",
      "Training samples (CN): 13, (AD): 9\n",
      "Testing samples (CN): 120, (AD): 79\n",
      "\n",
      "Fold 6 Evaluation: \n",
      "Accuracy: 0.9899\n",
      "Precision: 0.9753\n",
      "Recall: 1.0000\n",
      "F1 Score: 0.9875\n",
      "Cross-Entropy Loss: 0.0210\n",
      "--------------------------------------------------\n",
      "\n",
      "Training fold 7\n",
      "Training samples (CN): 13, (AD): 9\n",
      "Testing samples (CN): 120, (AD): 79\n",
      "\n",
      "Fold 7 Evaluation: \n",
      "Accuracy: 0.9698\n",
      "Precision: 1.0000\n",
      "Recall: 0.9241\n",
      "F1 Score: 0.9605\n",
      "Cross-Entropy Loss: 0.1535\n",
      "--------------------------------------------------\n",
      "\n",
      "Training fold 8\n",
      "Training samples (CN): 13, (AD): 9\n",
      "Testing samples (CN): 120, (AD): 79\n",
      "\n",
      "Fold 8 Evaluation: \n",
      "Accuracy: 0.9950\n",
      "Precision: 1.0000\n",
      "Recall: 0.9873\n",
      "F1 Score: 0.9936\n",
      "Cross-Entropy Loss: 0.0352\n",
      "--------------------------------------------------\n",
      "\n",
      "Training fold 9\n",
      "Training samples (CN): 13, (AD): 9\n",
      "Testing samples (CN): 120, (AD): 79\n",
      "\n",
      "Fold 9 Evaluation: \n",
      "Accuracy: 0.9950\n",
      "Precision: 1.0000\n",
      "Recall: 0.9873\n",
      "F1 Score: 0.9936\n",
      "Cross-Entropy Loss: 0.0360\n",
      "--------------------------------------------------\n",
      "\n",
      "Training fold 10\n",
      "Training samples (CN): 13, (AD): 9\n",
      "Testing samples (CN): 120, (AD): 79\n",
      "\n",
      "Fold 10 Evaluation: \n",
      "Accuracy: 0.9648\n",
      "Precision: 1.0000\n",
      "Recall: 0.9114\n",
      "F1 Score: 0.9536\n",
      "Cross-Entropy Loss: 0.2358\n",
      "--------------------------------------------------\n",
      "\n",
      "Training fold 11\n",
      "Training samples (CN): 13, (AD): 9\n",
      "Testing samples (CN): 120, (AD): 79\n",
      "\n",
      "Fold 11 Evaluation: \n",
      "Accuracy: 0.9950\n",
      "Precision: 1.0000\n",
      "Recall: 0.9873\n",
      "F1 Score: 0.9936\n",
      "Cross-Entropy Loss: 0.0219\n",
      "--------------------------------------------------\n",
      "\n",
      "Training fold 12\n",
      "Training samples (CN): 13, (AD): 9\n",
      "Testing samples (CN): 120, (AD): 79\n",
      "\n",
      "Fold 12 Evaluation: \n",
      "Accuracy: 0.9648\n",
      "Precision: 1.0000\n",
      "Recall: 0.9114\n",
      "F1 Score: 0.9536\n",
      "Cross-Entropy Loss: 0.1737\n",
      "--------------------------------------------------\n",
      "\n",
      "Training fold 13\n",
      "Training samples (CN): 13, (AD): 9\n",
      "Testing samples (CN): 120, (AD): 79\n",
      "\n",
      "Fold 13 Evaluation: \n",
      "Accuracy: 0.9598\n",
      "Precision: 0.9080\n",
      "Recall: 1.0000\n",
      "F1 Score: 0.9518\n",
      "Cross-Entropy Loss: 0.1596\n",
      "--------------------------------------------------\n",
      "\n",
      "Training fold 14\n",
      "Training samples (CN): 13, (AD): 9\n",
      "Testing samples (CN): 120, (AD): 79\n",
      "\n",
      "Fold 14 Evaluation: \n",
      "Accuracy: 0.9648\n",
      "Precision: 1.0000\n",
      "Recall: 0.9114\n",
      "F1 Score: 0.9536\n",
      "Cross-Entropy Loss: 0.2735\n",
      "--------------------------------------------------\n",
      "\n",
      "Training fold 15\n",
      "Training samples (CN): 13, (AD): 9\n",
      "Testing samples (CN): 120, (AD): 79\n",
      "\n",
      "Fold 15 Evaluation: \n",
      "Accuracy: 0.9950\n",
      "Precision: 1.0000\n",
      "Recall: 0.9873\n",
      "F1 Score: 0.9936\n",
      "Cross-Entropy Loss: 0.0327\n",
      "--------------------------------------------------\n",
      "\n",
      "Training fold 16\n",
      "Training samples (CN): 13, (AD): 9\n",
      "Testing samples (CN): 120, (AD): 79\n",
      "\n",
      "Fold 16 Evaluation: \n",
      "Accuracy: 0.9899\n",
      "Precision: 1.0000\n",
      "Recall: 0.9747\n",
      "F1 Score: 0.9872\n",
      "Cross-Entropy Loss: 0.0638\n",
      "--------------------------------------------------\n",
      "\n",
      "Training fold 17\n",
      "Training samples (CN): 13, (AD): 9\n",
      "Testing samples (CN): 120, (AD): 79\n",
      "\n",
      "Fold 17 Evaluation: \n",
      "Accuracy: 0.8794\n",
      "Precision: 0.7670\n",
      "Recall: 1.0000\n",
      "F1 Score: 0.8681\n",
      "Cross-Entropy Loss: 0.4575\n",
      "--------------------------------------------------\n",
      "\n",
      "Training fold 18\n",
      "Training samples (CN): 13, (AD): 9\n",
      "Testing samples (CN): 120, (AD): 79\n",
      "\n",
      "Fold 18 Evaluation: \n",
      "Accuracy: 0.9950\n",
      "Precision: 1.0000\n",
      "Recall: 0.9873\n",
      "F1 Score: 0.9936\n",
      "Cross-Entropy Loss: 0.0083\n",
      "--------------------------------------------------\n",
      "\n",
      "Training fold 19\n",
      "Training samples (CN): 13, (AD): 9\n",
      "Testing samples (CN): 120, (AD): 79\n",
      "\n",
      "Fold 19 Evaluation: \n",
      "Accuracy: 0.9899\n",
      "Precision: 1.0000\n",
      "Recall: 0.9747\n",
      "F1 Score: 0.9872\n",
      "Cross-Entropy Loss: 0.0290\n",
      "--------------------------------------------------\n",
      "\n",
      "Training fold 20\n",
      "Training samples (CN): 13, (AD): 9\n",
      "Testing samples (CN): 120, (AD): 79\n",
      "\n",
      "Fold 20 Evaluation: \n",
      "Accuracy: 0.9397\n",
      "Precision: 0.8681\n",
      "Recall: 1.0000\n",
      "F1 Score: 0.9294\n",
      "Cross-Entropy Loss: 0.1619\n",
      "--------------------------------------------------\n",
      "\n",
      "Average Results across 20 folds:\n",
      "Average Accuracy: 0.9663\n",
      "Average Precision: 0.9616\n",
      "Average Recall: 0.9614\n",
      "Average F1 Score: 0.9587\n",
      "Average Cross-Entropy Loss: 0.1579\n"
     ]
    }
   ],
   "source": [
    "all_y_true = []\n",
    "all_y_proba = []\n",
    "all_fpr = []\n",
    "all_tpr = []\n",
    "all_auc = []\n",
    "for fold, (train_idx, test_idx) in enumerate(sss.split(X, y)):\n",
    "    print(f\"\\nTraining fold {fold + 1}\")\n",
    "\n",
    "    # Create and move masks to device\n",
    "    train_mask = torch.tensor(train_idx).to(device)\n",
    "    test_mask = torch.tensor(test_idx).to(device)\n",
    "\n",
    "    # Print class counts\n",
    "    cn_train = np.sum(y[train_idx] == 0)\n",
    "    ad_train = np.sum(y[train_idx] == 1)\n",
    "    cn_test = np.sum(y[test_idx] == 0)\n",
    "    ad_test = np.sum(y[test_idx] == 1)\n",
    "    print(f\"Training samples (CN): {cn_train}, (AD): {ad_train}\")\n",
    "    print(f\"Testing samples (CN): {cn_test}, (AD): {ad_test}\")\n",
    "\n",
    "    model = GAT(input_dim=X.shape[1], hidden_dim=32, output_dim=2).to(device)\n",
    "    optimizer = torch.optim.Adam(model.parameters(), lr=0.0001, weight_decay=5e-4)\n",
    "    loss_fn = torch.nn.CrossEntropyLoss()\n",
    "\n",
    "    for epoch in range(num_epochs):\n",
    "        model.train()\n",
    "        optimizer.zero_grad()\n",
    "        out = model(X_tensor, edge_index)\n",
    "        loss = loss_fn(out[train_mask], y_tensor[train_mask])\n",
    "\n",
    "        if torch.isnan(loss) or torch.isinf(loss):\n",
    "            print(f\"NaN or Inf loss detected at epoch {epoch}, stopping training.\")\n",
    "            break\n",
    "\n",
    "        loss.backward()\n",
    "        optimizer.step()\n",
    "\n",
    "    # Evaluation\n",
    "    model.eval()\n",
    "    with torch.no_grad():\n",
    "        logits = model(X_tensor, edge_index)\n",
    "        y_pred = torch.argmax(logits, dim=1).cpu().numpy()\n",
    "        y_pred_proba = F.softmax(logits, dim=1).cpu().numpy()\n",
    "\n",
    "    y_true_test = y_tensor[test_mask].cpu().numpy()\n",
    "\n",
    "    accuracy = accuracy_score(y_true_test, y_pred[test_mask.cpu().numpy()])\n",
    "    precision = precision_score(y_true_test, y_pred[test_mask.cpu().numpy()])\n",
    "    recall = recall_score(y_true_test, y_pred[test_mask.cpu().numpy()])\n",
    "    f1 = f1_score(y_true_test, y_pred[test_mask.cpu().numpy()])\n",
    "    cross_entropy_loss = log_loss(y_true_test, y_pred_proba[test_mask.cpu().numpy()])\n",
    "\n",
    "    accuracies.append(accuracy)\n",
    "    precisions.append(precision)\n",
    "    recalls.append(recall)\n",
    "    f1_scores.append(f1)\n",
    "    losses.append(cross_entropy_loss)\n",
    "    all_y_true.extend(y_true_test)\n",
    "    all_y_proba.extend(y_pred_proba[test_mask.cpu().numpy(), 1])\n",
    "    fpr, tpr, _ = roc_curve(y_true_test, y_pred_proba[test_mask.cpu().numpy(), 1])\n",
    "    all_fpr.append(fpr)\n",
    "    all_tpr.append(tpr)\n",
    "    all_auc.append(auc(fpr, tpr))\n",
    "\n",
    "    print(f\"\\nFold {fold + 1} Evaluation: \")\n",
    "    print(f\"Accuracy: {accuracy:.4f}\")\n",
    "    print(f\"Precision: {precision:.4f}\")\n",
    "    print(f\"Recall: {recall:.4f}\")\n",
    "    print(f\"F1 Score: {f1:.4f}\")\n",
    "    print(f\"Cross-Entropy Loss: {cross_entropy_loss:.4f}\")\n",
    "    print(\"-\" * 50)\n",
    "\n",
    "# Average results\n",
    "print(\"\\nAverage Results across 20 folds:\")\n",
    "print(f\"Average Accuracy: {np.mean(accuracies):.4f}\")\n",
    "print(f\"Average Precision: {np.mean(precisions):.4f}\")\n",
    "print(f\"Average Recall: {np.mean(recalls):.4f}\")\n",
    "print(f\"Average F1 Score: {np.mean(f1_scores):.4f}\")\n",
    "print(f\"Average Cross-Entropy Loss: {np.mean(losses):.4f}\")"
   ]
  },
  {
   "cell_type": "markdown",
   "metadata": {
    "id": "JaGb2bKaACMI"
   },
   "source": [
    "## Top feature per fold"
   ]
  },
  {
   "cell_type": "code",
   "execution_count": null,
   "metadata": {
    "colab": {
     "base_uri": "https://localhost:8080/",
     "height": 1000
    },
    "executionInfo": {
     "elapsed": 514290,
     "status": "ok",
     "timestamp": 1747328335725,
     "user": {
      "displayName": "Saurabh Shigwan",
      "userId": "13392925412739105503"
     },
     "user_tz": -330
    },
    "id": "MNjfUMWN_sam",
    "outputId": "d6c483fb-e875-46aa-8946-55202c1440a7"
   },
   "outputs": [
    {
     "name": "stdout",
     "output_type": "stream",
     "text": [
      "\n",
      "Training fold 1\n",
      "Fold 1 completed.\n",
      "\n",
      "Training fold 2\n",
      "Fold 2 completed.\n",
      "\n",
      "Training fold 3\n",
      "Fold 3 completed.\n",
      "\n",
      "Training fold 4\n",
      "Fold 4 completed.\n",
      "\n",
      "Training fold 5\n",
      "Fold 5 completed.\n",
      "\n",
      "Training fold 6\n",
      "Fold 6 completed.\n",
      "\n",
      "Training fold 7\n",
      "Fold 7 completed.\n",
      "\n",
      "Training fold 8\n",
      "Fold 8 completed.\n",
      "\n",
      "Training fold 9\n",
      "Fold 9 completed.\n",
      "\n",
      "Training fold 10\n",
      "Fold 10 completed.\n",
      "\n",
      "Training fold 11\n",
      "Fold 11 completed.\n",
      "\n",
      "Training fold 12\n",
      "Fold 12 completed.\n",
      "\n",
      "Training fold 13\n",
      "Fold 13 completed.\n",
      "\n",
      "Training fold 14\n",
      "Fold 14 completed.\n",
      "\n",
      "Training fold 15\n",
      "Fold 15 completed.\n",
      "\n",
      "Training fold 16\n",
      "Fold 16 completed.\n",
      "\n",
      "Training fold 17\n",
      "Fold 17 completed.\n",
      "\n",
      "Training fold 18\n",
      "Fold 18 completed.\n",
      "\n",
      "Training fold 19\n",
      "Fold 19 completed.\n",
      "\n",
      "Training fold 20\n",
      "Fold 20 completed.\n",
      "\n",
      "Top 10 important features across all folds:\n",
      "1. Feature f61 - Mean: 0.0597, Std: 0.0380\n",
      "2. Feature f160 - Mean: 0.0450, Std: 0.0750\n",
      "3. Feature f178 - Mean: 0.0393, Std: 0.0391\n",
      "4. Feature f85 - Mean: 0.0352, Std: 0.0119\n",
      "5. Feature f56 - Mean: 0.0337, Std: 0.0229\n",
      "6. Feature f165 - Mean: 0.0323, Std: 0.0205\n",
      "7. Feature f177 - Mean: 0.0319, Std: 0.0272\n",
      "8. Feature f150 - Mean: 0.0303, Std: 0.0157\n",
      "9. Feature f123 - Mean: 0.0298, Std: 0.0199\n",
      "10. Feature f81 - Mean: 0.0296, Std: 0.0263\n"
     ]
    },
    {
     "data": {
      "image/png": "[encoded data removed]",
      "text/plain": [
       "<Figure size 1000x500 with 1 Axes>"
      ]
     },
     "metadata": {},
     "output_type": "display_data"
    }
   ],
   "source": [
    "num_test_samples = 20  # LIME explanations per fold\n",
    "top_n = 10  # top-N features to report\n",
    "\n",
    "feature_names = [f\"f{i}\" for i in range(X.shape[1])]\n",
    "global_feature_scores = []  # to store importance vectors per fold\n",
    "\n",
    "for fold, (train_idx, test_idx) in enumerate(sss.split(X, y)):\n",
    "    print(f\"\\nTraining fold {fold + 1}\")\n",
    "\n",
    "    train_mask = torch.tensor(train_idx).to(device)\n",
    "    test_mask = torch.tensor(test_idx).to(device)\n",
    "\n",
    "    model = GAT(input_dim=X.shape[1], hidden_dim=32, output_dim=2).to(device)\n",
    "    optimizer = torch.optim.Adam(model.parameters(), lr=0.0001, weight_decay=5e-4)\n",
    "    loss_fn = torch.nn.CrossEntropyLoss()\n",
    "\n",
    "    for epoch in range(num_epochs):\n",
    "        model.train()\n",
    "        optimizer.zero_grad()\n",
    "        out = model(X_tensor, edge_index)\n",
    "        loss = loss_fn(out[train_mask], y_tensor[train_mask])\n",
    "        if torch.isnan(loss) or torch.isinf(loss):\n",
    "            print(f\"NaN/Inf loss at epoch {epoch}, stopping.\")\n",
    "            break\n",
    "        loss.backward()\n",
    "        optimizer.step()\n",
    "\n",
    "    # Define prediction function for LIME\n",
    "    def predict_fn(input_np):\n",
    "        input_tensor = torch.tensor(input_np, dtype=torch.float).to(device)\n",
    "        model.eval()\n",
    "        with torch.no_grad():\n",
    "            logits = model(input_tensor, edge_index)\n",
    "            proba = F.softmax(logits, dim=1).cpu().numpy()\n",
    "        return proba\n",
    "\n",
    "    # Setup LIME explainer\n",
    "    explainer = LimeTabularExplainer(\n",
    "        training_data=X[train_idx],\n",
    "        feature_names=feature_names,\n",
    "        class_names=[\"CN\", \"MCI\"],\n",
    "        mode=\"classification\"\n",
    "    )\n",
    "\n",
    "    # Store feature importances per fold\n",
    "    fold_feature_scores = np.zeros(X.shape[1])\n",
    "\n",
    "    for i in range(min(num_test_samples, len(test_idx))):\n",
    "        test_sample = X[test_idx[i]].reshape(1, -1)\n",
    "        explanation = explainer.explain_instance(\n",
    "            test_sample[0], predict_fn, num_features=X.shape[1]\n",
    "        )\n",
    "        for feature_idx, importance in explanation.as_map()[1]:  # class 1 = MCI\n",
    "            fold_feature_scores[feature_idx] += abs(importance)\n",
    "\n",
    "    fold_feature_scores /= num_test_samples\n",
    "    global_feature_scores.append(fold_feature_scores)\n",
    "\n",
    "    print(f\"Fold {fold + 1} completed.\")\n",
    "\n",
    "\n",
    "global_feature_scores = np.array(global_feature_scores)\n",
    "\n",
    "\n",
    "mean_importance = np.mean(global_feature_scores, axis=0)\n",
    "std_importance = np.std(global_feature_scores, axis=0)\n",
    "\n",
    "\n",
    "top_indices = np.argsort(mean_importance)[::-1][:top_n]\n",
    "\n",
    "print(f\"\\nTop {top_n} important features across all folds:\")\n",
    "for rank, idx in enumerate(top_indices, 1):\n",
    "    print(f\"{rank}. Feature {feature_names[idx]} - Mean: {mean_importance[idx]:.4f}, Std: {std_importance[idx]:.4f}\")\n",
    "\n",
    "\n",
    "plt.figure(figsize=(10, 5))\n",
    "plt.barh([feature_names[i] for i in top_indices[::-1]],\n",
    "         mean_importance[top_indices][::-1],\n",
    "         xerr=std_importance[top_indices][::-1],\n",
    "         color='skyblue')\n",
    "plt.xlabel(\"Mean Absolute LIME Importance\")\n",
    "plt.title(f\"Top {top_n} Important Features (LIME across folds)\")\n",
    "plt.tight_layout()\n",
    "plt.gca().invert_yaxis()\n",
    "plt.show()\n"
   ]
  },
  {
   "cell_type": "code",
   "execution_count": null,
   "metadata": {
    "colab": {
     "base_uri": "https://localhost:8080/",
     "height": 575
    },
    "executionInfo": {
     "elapsed": 608,
     "status": "ok",
     "timestamp": 1747309496050,
     "user": {
      "displayName": "Saurabh Shigwan",
      "userId": "13392925412739105503"
     },
     "user_tz": -330
    },
    "id": "Lmd3E6pZhDL8",
    "outputId": "87bae47f-e10c-420c-dfe6-e07edf981964"
   },
   "outputs": [
    {
     "data": {
      "image/png": "[encoded data removed]",
      "text/plain": [
       "<Figure size 800x600 with 1 Axes>"
      ]
     },
     "metadata": {},
     "output_type": "display_data"
    }
   ],
   "source": [
    "plt.figure(figsize=(8, 6))\n",
    "\n",
    "for i in range(len(all_fpr)):\n",
    "    plt.plot(all_fpr[i], all_tpr[i], alpha=0.3, label=f\"Fold {i+1} AUC = {all_auc[i]:.2f}\")\n",
    "\n",
    "# Average ROC Curve\n",
    "fpr_avg, tpr_avg, _ = roc_curve(all_y_true, all_y_proba)\n",
    "auc_avg = roc_auc_score(all_y_true, all_y_proba)\n",
    "plt.plot(fpr_avg, tpr_avg, color='blue', lw=2, label=f\"Mean ROC (AUC = {auc_avg:.2f})\")\n",
    "plt.plot([0, 1], [0, 1], 'k--', label=\"Chance\")\n",
    "plt.xlabel(\"False Positive Rate\", fontsize=14)\n",
    "plt.ylabel(\"True Positive Rate\", fontsize=14)\n",
    "plt.title(\"ROC Curve Across 20 Folds (GAT)\", fontsize=16)\n",
    "plt.xticks(fontsize=12)\n",
    "plt.yticks(fontsize=12)\n",
    "plt.legend(loc=\"lower right\", fontsize=9)\n",
    "plt.grid(True)"
   ]
  },
  {
   "cell_type": "code",
   "execution_count": null,
   "metadata": {
    "colab": {
     "base_uri": "https://localhost:8080/",
     "height": 307
    },
    "executionInfo": {
     "elapsed": 2321,
     "status": "ok",
     "timestamp": 1747280713293,
     "user": {
      "displayName": "Saurabh Shigwan",
      "userId": "13392925412739105503"
     },
     "user_tz": -330
    },
    "id": "uIOLJb-3aSBD",
    "outputId": "3a0d2a4b-d2b8-41b3-ebed-7ccc6b0094c1"
   },
   "outputs": [
    {
     "data": {
      "image/png": "[encoded data removed]",
      "text/plain": [
       "<Figure size 600x300 with 2 Axes>"
      ]
     },
     "metadata": {},
     "output_type": "display_data"
    }
   ],
   "source": [
    "X_input = X_tensor.cpu().numpy()\n",
    "tsne_input = TSNE(n_components=2, init='pca', random_state=42)\n",
    "input_2d = tsne_input.fit_transform(X_input)\n",
    "\n",
    "\n",
    "model.eval()\n",
    "with torch.no_grad():\n",
    "    x = model.conv1(X_tensor, edge_index)\n",
    "    x = F.relu(x)\n",
    "    embeddings = model.conv2(x, edge_index)\n",
    "    embeddings = F.relu(embeddings).cpu().numpy()\n",
    "\n",
    "tsne_embed = TSNE(n_components=2, init='pca', random_state=42)\n",
    "embed_2d = tsne_embed.fit_transform(embeddings)\n",
    "\n",
    "\n",
    "labels = y_tensor.cpu().numpy()\n",
    "\n",
    "\n",
    "colors = ['blue', 'green']\n",
    "markers = ['o', 's']\n",
    "class_names = ['CN', 'AD']\n",
    "font_size = 8\n",
    "\n",
    "fig, axes = plt.subplots(1, 2, figsize=(6, 3))\n",
    "\n",
    "\n",
    "for cls, color, marker in zip([0, 1], colors, markers):\n",
    "    idx = labels == cls\n",
    "    axes[0].scatter(input_2d[idx, 0], input_2d[idx, 1],\n",
    "                    c=color, marker=marker, label=class_names[cls], alpha=0.7, s=10)\n",
    "axes[0].set_title(\"Raw Input Features(GAT-CN vs AD)\", fontsize=font_size)\n",
    "axes[0].set_xlabel(\"t-SNE 1\", fontsize=font_size)\n",
    "axes[0].set_ylabel(\"t-SNE 2\", fontsize=font_size)\n",
    "axes[0].tick_params(labelsize=font_size)\n",
    "\n",
    "\n",
    "for cls, color, marker in zip([0, 1], colors, markers):\n",
    "    idx = labels == cls\n",
    "    axes[1].scatter(embed_2d[idx, 0], embed_2d[idx, 1],\n",
    "                    c=color, marker=marker, label=class_names[cls], alpha=0.7, s=10)\n",
    "axes[1].set_title(\"GAT Embeddings(CN vs AD)\", fontsize=font_size)\n",
    "axes[1].set_xlabel(\"t-SNE 1\", fontsize=font_size)\n",
    "axes[1].set_ylabel(\"t-SNE 2\", fontsize=font_size)\n",
    "axes[1].tick_params(labelsize=font_size)\n",
    "\n",
    "\n",
    "axes[1].legend(fontsize=font_size, loc='best')\n",
    "\n",
    "plt.tight_layout()\n",
    "plt.savefig(\"tsne_comparison.png\", dpi=300, bbox_inches='tight')\n",
    "plt.show()\n"
   ]
  }
 ],
 "metadata": {
  "accelerator": "GPU",
  "colab": {
   "gpuType": "A100",
   "machine_shape": "hm",
   "provenance": [
    {
     "file_id": "1gFoFrTn58cEUJqjty_hDUQ8C3D3ccxHG",
     "timestamp": 1746707263129
    },
    {
     "file_id": "1XKQP0MmuT0v0nBGEMgilK7q4xh1lUCZo",
     "timestamp": 1746706567703
    },
    {
     "file_id": "1aD1giNfv1idNHWKnQmRTkr7MDu_tjjKo",
     "timestamp": 1746706026334
    },
    {
     "file_id": "1C0KSYfo4jAOTJRP600dgswXCWzv64luu",
     "timestamp": 1746705726762
    },
    {
     "file_id": "1UDJaQxcixFBoLdBH8KoBHMxo19SRI1My",
     "timestamp": 1746704712511
    },
    {
     "file_id": "1y40jw9ksHpmIeKlcMcBmqpvK5gnOF8vb",
     "timestamp": 1746704120540
    },
    {
     "file_id": "1vLY-ZFYfdexWlCV5nMBy_s8I-TdUUtXi",
     "timestamp": 1746702771944
    },
    {
     "file_id": "1O03CrIGAL9R-y4SCrFZLyak5k2mxsJxe",
     "timestamp": 1741177807100
    }
   ]
  },
  "kernelspec": {
   "display_name": "Python 3",
   "name": "python3"
  },
  "language_info": {
   "name": "python"
  }
 },
 "nbformat": 4,
 "nbformat_minor": 0
}
